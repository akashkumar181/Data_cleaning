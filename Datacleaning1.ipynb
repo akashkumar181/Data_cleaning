{
  "nbformat": 4,
  "nbformat_minor": 0,
  "metadata": {
    "colab": {
      "provenance": [],
      "authorship_tag": "ABX9TyODIn4MDmd9eAgxwkQokZ/m",
      "include_colab_link": true
    },
    "kernelspec": {
      "name": "python3",
      "display_name": "Python 3"
    },
    "language_info": {
      "name": "python"
    }
  },
  "cells": [
    {
      "cell_type": "markdown",
      "metadata": {
        "id": "view-in-github",
        "colab_type": "text"
      },
      "source": [
        "<a href=\"https://colab.research.google.com/github/akashkumar181/Data_cleaning/blob/main/Datacleaning1.ipynb\" target=\"_parent\"><img src=\"https://colab.research.google.com/assets/colab-badge.svg\" alt=\"Open In Colab\"/></a>"
      ]
    },
    {
      "cell_type": "code",
      "execution_count": null,
      "metadata": {
        "id": "S2ajjfFYJO4M"
      },
      "outputs": [],
      "source": [
        "import pandas as pd\n",
        "import seaborn as sns\n",
        "import matplotlib.pyplot as plt"
      ]
    },
    {
      "cell_type": "markdown",
      "source": [
        "#Data cleaning"
      ],
      "metadata": {
        "id": "8YRlOSMrKB_3"
      }
    },
    {
      "cell_type": "code",
      "source": [
        "csv_1 = pd.read_excel(\"/content/P_Data_Extract_From_World_Development_Indicators.xlsx\")\n",
        "csv_1.head(3) #it provide only three row of data\n"
      ],
      "metadata": {
        "colab": {
          "base_uri": "https://localhost:8080/",
          "height": 284
        },
        "id": "tnzMmDAXKecf",
        "outputId": "76333e6b-7470-405f-f587-b70a3c1624c2"
      },
      "execution_count": null,
      "outputs": [
        {
          "output_type": "execute_result",
          "data": {
            "text/plain": [
              "         Series Name     Series Code Country Name Country Code  \\\n",
              "0  GDP (current US$)  NY.GDP.MKTP.CD  Afghanistan          AFG   \n",
              "1  GDP (current US$)  NY.GDP.MKTP.CD      Albania          ALB   \n",
              "2  GDP (current US$)  NY.GDP.MKTP.CD      Algeria          DZA   \n",
              "\n",
              "        1990 [YR1990]       2000 [YR2000]        2014 [YR2014]  \\\n",
              "0                  ..   3521418059.923445   20497128555.697231   \n",
              "1          2028553750    3480355258.04122   13228147516.116798   \n",
              "2  62048507531.335716  54790398570.328224  238942664192.589996   \n",
              "\n",
              "         2015 [YR2015]        2016 [YR2016]        2017 [YR2017]  \\\n",
              "0   19134221644.732494   18116572395.077213   18753456497.815865   \n",
              "1     11386853113.0189    11861199830.83956   13019726211.736889   \n",
              "2  187493855609.344635  180763839522.150818  189880896903.073303   \n",
              "\n",
              "        2018 [YR2018]        2019 [YR2019]        2020 [YR2020]  \\\n",
              "0  18053222687.412624   18799444490.112782   19955929052.149597   \n",
              "1  15379509891.719603   15585105131.064415   15241458744.868845   \n",
              "2  194554483655.52774  193459662090.676819  164873415325.201477   \n",
              "\n",
              "         2021 [YR2021]        2022 [YR2022]        2023 [YR2023]  \n",
              "0   14259995441.075907   14497243872.133739   17233051620.111732  \n",
              "1   18032010563.755798   19017242585.780338   23547179830.441257  \n",
              "2  186231205262.082367  225638456572.142761  247626161016.414459  "
            ],
            "text/html": [
              "\n",
              "  <div id=\"df-0edc4e83-975b-4e11-a45e-65817bbe4fe1\" class=\"colab-df-container\">\n",
              "    <div>\n",
              "<style scoped>\n",
              "    .dataframe tbody tr th:only-of-type {\n",
              "        vertical-align: middle;\n",
              "    }\n",
              "\n",
              "    .dataframe tbody tr th {\n",
              "        vertical-align: top;\n",
              "    }\n",
              "\n",
              "    .dataframe thead th {\n",
              "        text-align: right;\n",
              "    }\n",
              "</style>\n",
              "<table border=\"1\" class=\"dataframe\">\n",
              "  <thead>\n",
              "    <tr style=\"text-align: right;\">\n",
              "      <th></th>\n",
              "      <th>Series Name</th>\n",
              "      <th>Series Code</th>\n",
              "      <th>Country Name</th>\n",
              "      <th>Country Code</th>\n",
              "      <th>1990 [YR1990]</th>\n",
              "      <th>2000 [YR2000]</th>\n",
              "      <th>2014 [YR2014]</th>\n",
              "      <th>2015 [YR2015]</th>\n",
              "      <th>2016 [YR2016]</th>\n",
              "      <th>2017 [YR2017]</th>\n",
              "      <th>2018 [YR2018]</th>\n",
              "      <th>2019 [YR2019]</th>\n",
              "      <th>2020 [YR2020]</th>\n",
              "      <th>2021 [YR2021]</th>\n",
              "      <th>2022 [YR2022]</th>\n",
              "      <th>2023 [YR2023]</th>\n",
              "    </tr>\n",
              "  </thead>\n",
              "  <tbody>\n",
              "    <tr>\n",
              "      <th>0</th>\n",
              "      <td>GDP (current US$)</td>\n",
              "      <td>NY.GDP.MKTP.CD</td>\n",
              "      <td>Afghanistan</td>\n",
              "      <td>AFG</td>\n",
              "      <td>..</td>\n",
              "      <td>3521418059.923445</td>\n",
              "      <td>20497128555.697231</td>\n",
              "      <td>19134221644.732494</td>\n",
              "      <td>18116572395.077213</td>\n",
              "      <td>18753456497.815865</td>\n",
              "      <td>18053222687.412624</td>\n",
              "      <td>18799444490.112782</td>\n",
              "      <td>19955929052.149597</td>\n",
              "      <td>14259995441.075907</td>\n",
              "      <td>14497243872.133739</td>\n",
              "      <td>17233051620.111732</td>\n",
              "    </tr>\n",
              "    <tr>\n",
              "      <th>1</th>\n",
              "      <td>GDP (current US$)</td>\n",
              "      <td>NY.GDP.MKTP.CD</td>\n",
              "      <td>Albania</td>\n",
              "      <td>ALB</td>\n",
              "      <td>2028553750</td>\n",
              "      <td>3480355258.04122</td>\n",
              "      <td>13228147516.116798</td>\n",
              "      <td>11386853113.0189</td>\n",
              "      <td>11861199830.83956</td>\n",
              "      <td>13019726211.736889</td>\n",
              "      <td>15379509891.719603</td>\n",
              "      <td>15585105131.064415</td>\n",
              "      <td>15241458744.868845</td>\n",
              "      <td>18032010563.755798</td>\n",
              "      <td>19017242585.780338</td>\n",
              "      <td>23547179830.441257</td>\n",
              "    </tr>\n",
              "    <tr>\n",
              "      <th>2</th>\n",
              "      <td>GDP (current US$)</td>\n",
              "      <td>NY.GDP.MKTP.CD</td>\n",
              "      <td>Algeria</td>\n",
              "      <td>DZA</td>\n",
              "      <td>62048507531.335716</td>\n",
              "      <td>54790398570.328224</td>\n",
              "      <td>238942664192.589996</td>\n",
              "      <td>187493855609.344635</td>\n",
              "      <td>180763839522.150818</td>\n",
              "      <td>189880896903.073303</td>\n",
              "      <td>194554483655.52774</td>\n",
              "      <td>193459662090.676819</td>\n",
              "      <td>164873415325.201477</td>\n",
              "      <td>186231205262.082367</td>\n",
              "      <td>225638456572.142761</td>\n",
              "      <td>247626161016.414459</td>\n",
              "    </tr>\n",
              "  </tbody>\n",
              "</table>\n",
              "</div>\n",
              "    <div class=\"colab-df-buttons\">\n",
              "\n",
              "  <div class=\"colab-df-container\">\n",
              "    <button class=\"colab-df-convert\" onclick=\"convertToInteractive('df-0edc4e83-975b-4e11-a45e-65817bbe4fe1')\"\n",
              "            title=\"Convert this dataframe to an interactive table.\"\n",
              "            style=\"display:none;\">\n",
              "\n",
              "  <svg xmlns=\"http://www.w3.org/2000/svg\" height=\"24px\" viewBox=\"0 -960 960 960\">\n",
              "    <path d=\"M120-120v-720h720v720H120Zm60-500h600v-160H180v160Zm220 220h160v-160H400v160Zm0 220h160v-160H400v160ZM180-400h160v-160H180v160Zm440 0h160v-160H620v160ZM180-180h160v-160H180v160Zm440 0h160v-160H620v160Z\"/>\n",
              "  </svg>\n",
              "    </button>\n",
              "\n",
              "  <style>\n",
              "    .colab-df-container {\n",
              "      display:flex;\n",
              "      gap: 12px;\n",
              "    }\n",
              "\n",
              "    .colab-df-convert {\n",
              "      background-color: #E8F0FE;\n",
              "      border: none;\n",
              "      border-radius: 50%;\n",
              "      cursor: pointer;\n",
              "      display: none;\n",
              "      fill: #1967D2;\n",
              "      height: 32px;\n",
              "      padding: 0 0 0 0;\n",
              "      width: 32px;\n",
              "    }\n",
              "\n",
              "    .colab-df-convert:hover {\n",
              "      background-color: #E2EBFA;\n",
              "      box-shadow: 0px 1px 2px rgba(60, 64, 67, 0.3), 0px 1px 3px 1px rgba(60, 64, 67, 0.15);\n",
              "      fill: #174EA6;\n",
              "    }\n",
              "\n",
              "    .colab-df-buttons div {\n",
              "      margin-bottom: 4px;\n",
              "    }\n",
              "\n",
              "    [theme=dark] .colab-df-convert {\n",
              "      background-color: #3B4455;\n",
              "      fill: #D2E3FC;\n",
              "    }\n",
              "\n",
              "    [theme=dark] .colab-df-convert:hover {\n",
              "      background-color: #434B5C;\n",
              "      box-shadow: 0px 1px 3px 1px rgba(0, 0, 0, 0.15);\n",
              "      filter: drop-shadow(0px 1px 2px rgba(0, 0, 0, 0.3));\n",
              "      fill: #FFFFFF;\n",
              "    }\n",
              "  </style>\n",
              "\n",
              "    <script>\n",
              "      const buttonEl =\n",
              "        document.querySelector('#df-0edc4e83-975b-4e11-a45e-65817bbe4fe1 button.colab-df-convert');\n",
              "      buttonEl.style.display =\n",
              "        google.colab.kernel.accessAllowed ? 'block' : 'none';\n",
              "\n",
              "      async function convertToInteractive(key) {\n",
              "        const element = document.querySelector('#df-0edc4e83-975b-4e11-a45e-65817bbe4fe1');\n",
              "        const dataTable =\n",
              "          await google.colab.kernel.invokeFunction('convertToInteractive',\n",
              "                                                    [key], {});\n",
              "        if (!dataTable) return;\n",
              "\n",
              "        const docLinkHtml = 'Like what you see? Visit the ' +\n",
              "          '<a target=\"_blank\" href=https://colab.research.google.com/notebooks/data_table.ipynb>data table notebook</a>'\n",
              "          + ' to learn more about interactive tables.';\n",
              "        element.innerHTML = '';\n",
              "        dataTable['output_type'] = 'display_data';\n",
              "        await google.colab.output.renderOutput(dataTable, element);\n",
              "        const docLink = document.createElement('div');\n",
              "        docLink.innerHTML = docLinkHtml;\n",
              "        element.appendChild(docLink);\n",
              "      }\n",
              "    </script>\n",
              "  </div>\n",
              "\n",
              "\n",
              "<div id=\"df-89084d71-1a16-433b-bdc8-5d77d477bf13\">\n",
              "  <button class=\"colab-df-quickchart\" onclick=\"quickchart('df-89084d71-1a16-433b-bdc8-5d77d477bf13')\"\n",
              "            title=\"Suggest charts\"\n",
              "            style=\"display:none;\">\n",
              "\n",
              "<svg xmlns=\"http://www.w3.org/2000/svg\" height=\"24px\"viewBox=\"0 0 24 24\"\n",
              "     width=\"24px\">\n",
              "    <g>\n",
              "        <path d=\"M19 3H5c-1.1 0-2 .9-2 2v14c0 1.1.9 2 2 2h14c1.1 0 2-.9 2-2V5c0-1.1-.9-2-2-2zM9 17H7v-7h2v7zm4 0h-2V7h2v10zm4 0h-2v-4h2v4z\"/>\n",
              "    </g>\n",
              "</svg>\n",
              "  </button>\n",
              "\n",
              "<style>\n",
              "  .colab-df-quickchart {\n",
              "      --bg-color: #E8F0FE;\n",
              "      --fill-color: #1967D2;\n",
              "      --hover-bg-color: #E2EBFA;\n",
              "      --hover-fill-color: #174EA6;\n",
              "      --disabled-fill-color: #AAA;\n",
              "      --disabled-bg-color: #DDD;\n",
              "  }\n",
              "\n",
              "  [theme=dark] .colab-df-quickchart {\n",
              "      --bg-color: #3B4455;\n",
              "      --fill-color: #D2E3FC;\n",
              "      --hover-bg-color: #434B5C;\n",
              "      --hover-fill-color: #FFFFFF;\n",
              "      --disabled-bg-color: #3B4455;\n",
              "      --disabled-fill-color: #666;\n",
              "  }\n",
              "\n",
              "  .colab-df-quickchart {\n",
              "    background-color: var(--bg-color);\n",
              "    border: none;\n",
              "    border-radius: 50%;\n",
              "    cursor: pointer;\n",
              "    display: none;\n",
              "    fill: var(--fill-color);\n",
              "    height: 32px;\n",
              "    padding: 0;\n",
              "    width: 32px;\n",
              "  }\n",
              "\n",
              "  .colab-df-quickchart:hover {\n",
              "    background-color: var(--hover-bg-color);\n",
              "    box-shadow: 0 1px 2px rgba(60, 64, 67, 0.3), 0 1px 3px 1px rgba(60, 64, 67, 0.15);\n",
              "    fill: var(--button-hover-fill-color);\n",
              "  }\n",
              "\n",
              "  .colab-df-quickchart-complete:disabled,\n",
              "  .colab-df-quickchart-complete:disabled:hover {\n",
              "    background-color: var(--disabled-bg-color);\n",
              "    fill: var(--disabled-fill-color);\n",
              "    box-shadow: none;\n",
              "  }\n",
              "\n",
              "  .colab-df-spinner {\n",
              "    border: 2px solid var(--fill-color);\n",
              "    border-color: transparent;\n",
              "    border-bottom-color: var(--fill-color);\n",
              "    animation:\n",
              "      spin 1s steps(1) infinite;\n",
              "  }\n",
              "\n",
              "  @keyframes spin {\n",
              "    0% {\n",
              "      border-color: transparent;\n",
              "      border-bottom-color: var(--fill-color);\n",
              "      border-left-color: var(--fill-color);\n",
              "    }\n",
              "    20% {\n",
              "      border-color: transparent;\n",
              "      border-left-color: var(--fill-color);\n",
              "      border-top-color: var(--fill-color);\n",
              "    }\n",
              "    30% {\n",
              "      border-color: transparent;\n",
              "      border-left-color: var(--fill-color);\n",
              "      border-top-color: var(--fill-color);\n",
              "      border-right-color: var(--fill-color);\n",
              "    }\n",
              "    40% {\n",
              "      border-color: transparent;\n",
              "      border-right-color: var(--fill-color);\n",
              "      border-top-color: var(--fill-color);\n",
              "    }\n",
              "    60% {\n",
              "      border-color: transparent;\n",
              "      border-right-color: var(--fill-color);\n",
              "    }\n",
              "    80% {\n",
              "      border-color: transparent;\n",
              "      border-right-color: var(--fill-color);\n",
              "      border-bottom-color: var(--fill-color);\n",
              "    }\n",
              "    90% {\n",
              "      border-color: transparent;\n",
              "      border-bottom-color: var(--fill-color);\n",
              "    }\n",
              "  }\n",
              "</style>\n",
              "\n",
              "  <script>\n",
              "    async function quickchart(key) {\n",
              "      const quickchartButtonEl =\n",
              "        document.querySelector('#' + key + ' button');\n",
              "      quickchartButtonEl.disabled = true;  // To prevent multiple clicks.\n",
              "      quickchartButtonEl.classList.add('colab-df-spinner');\n",
              "      try {\n",
              "        const charts = await google.colab.kernel.invokeFunction(\n",
              "            'suggestCharts', [key], {});\n",
              "      } catch (error) {\n",
              "        console.error('Error during call to suggestCharts:', error);\n",
              "      }\n",
              "      quickchartButtonEl.classList.remove('colab-df-spinner');\n",
              "      quickchartButtonEl.classList.add('colab-df-quickchart-complete');\n",
              "    }\n",
              "    (() => {\n",
              "      let quickchartButtonEl =\n",
              "        document.querySelector('#df-89084d71-1a16-433b-bdc8-5d77d477bf13 button');\n",
              "      quickchartButtonEl.style.display =\n",
              "        google.colab.kernel.accessAllowed ? 'block' : 'none';\n",
              "    })();\n",
              "  </script>\n",
              "</div>\n",
              "\n",
              "    </div>\n",
              "  </div>\n"
            ],
            "application/vnd.google.colaboratory.intrinsic+json": {
              "type": "dataframe",
              "variable_name": "csv_1",
              "summary": "{\n  \"name\": \"csv_1\",\n  \"rows\": 271,\n  \"fields\": [\n    {\n      \"column\": \"Series Name\",\n      \"properties\": {\n        \"dtype\": \"category\",\n        \"num_unique_values\": 3,\n        \"samples\": [\n          \"GDP (current US$)\",\n          \"Data from database: World Development Indicators\",\n          \"Last Updated: 01/28/2025\"\n        ],\n        \"semantic_type\": \"\",\n        \"description\": \"\"\n      }\n    },\n    {\n      \"column\": \"Series Code\",\n      \"properties\": {\n        \"dtype\": \"category\",\n        \"num_unique_values\": 1,\n        \"samples\": [\n          \"NY.GDP.MKTP.CD\"\n        ],\n        \"semantic_type\": \"\",\n        \"description\": \"\"\n      }\n    },\n    {\n      \"column\": \"Country Name\",\n      \"properties\": {\n        \"dtype\": \"string\",\n        \"num_unique_values\": 266,\n        \"samples\": [\n          \"St. Kitts and Nevis\"\n        ],\n        \"semantic_type\": \"\",\n        \"description\": \"\"\n      }\n    },\n    {\n      \"column\": \"Country Code\",\n      \"properties\": {\n        \"dtype\": \"string\",\n        \"num_unique_values\": 266,\n        \"samples\": [\n          \"KNA\"\n        ],\n        \"semantic_type\": \"\",\n        \"description\": \"\"\n      }\n    },\n    {\n      \"column\": \"1990 [YR1990]\",\n      \"properties\": {\n        \"dtype\": \"string\",\n        \"num_unique_values\": 240,\n        \"samples\": [\n          3790636324.447746\n        ],\n        \"semantic_type\": \"\",\n        \"description\": \"\"\n      }\n    },\n    {\n      \"column\": \"2000 [YR2000]\",\n      \"properties\": {\n        \"dtype\": \"string\",\n        \"num_unique_values\": 251,\n        \"samples\": [\n          2068836754.374305\n        ],\n        \"semantic_type\": \"\",\n        \"description\": \"\"\n      }\n    },\n    {\n      \"column\": \"2014 [YR2014]\",\n      \"properties\": {\n        \"dtype\": \"string\",\n        \"num_unique_values\": 260,\n        \"samples\": [\n          13943016076.743608\n        ],\n        \"semantic_type\": \"\",\n        \"description\": \"\"\n      }\n    },\n    {\n      \"column\": \"2015 [YR2015]\",\n      \"properties\": {\n        \"dtype\": \"string\",\n        \"num_unique_values\": 259,\n        \"samples\": [\n          233210733506.24988\n        ],\n        \"semantic_type\": \"\",\n        \"description\": \"\"\n      }\n    },\n    {\n      \"column\": \"2016 [YR2016]\",\n      \"properties\": {\n        \"dtype\": \"string\",\n        \"num_unique_values\": 258,\n        \"samples\": [\n          238777818792.60757\n        ],\n        \"semantic_type\": \"\",\n        \"description\": \"\"\n      }\n    },\n    {\n      \"column\": \"2017 [YR2017]\",\n      \"properties\": {\n        \"dtype\": \"string\",\n        \"num_unique_values\": 258,\n        \"samples\": [\n          253846138440.00043\n        ],\n        \"semantic_type\": \"\",\n        \"description\": \"\"\n      }\n    },\n    {\n      \"column\": \"2018 [YR2018]\",\n      \"properties\": {\n        \"dtype\": \"string\",\n        \"num_unique_values\": 258,\n        \"samples\": [\n          273869255596.07825\n        ],\n        \"semantic_type\": \"\",\n        \"description\": \"\"\n      }\n    },\n    {\n      \"column\": \"2019 [YR2019]\",\n      \"properties\": {\n        \"dtype\": \"string\",\n        \"num_unique_values\": 258,\n        \"samples\": [\n          267014821129.41135\n        ],\n        \"semantic_type\": \"\",\n        \"description\": \"\"\n      }\n    },\n    {\n      \"column\": \"2020 [YR2020]\",\n      \"properties\": {\n        \"dtype\": \"string\",\n        \"num_unique_values\": 257,\n        \"samples\": [\n          55874017668.998\n        ],\n        \"semantic_type\": \"\",\n        \"description\": \"\"\n      }\n    },\n    {\n      \"column\": \"2021 [YR2021]\",\n      \"properties\": {\n        \"dtype\": \"string\",\n        \"num_unique_values\": 257,\n        \"samples\": [\n          1487173794.8052788\n        ],\n        \"semantic_type\": \"\",\n        \"description\": \"\"\n      }\n    },\n    {\n      \"column\": \"2022 [YR2022]\",\n      \"properties\": {\n        \"dtype\": \"string\",\n        \"num_unique_values\": 254,\n        \"samples\": [\n          907118434653.5048\n        ],\n        \"semantic_type\": \"\",\n        \"description\": \"\"\n      }\n    },\n    {\n      \"column\": \"2023 [YR2023]\",\n      \"properties\": {\n        \"dtype\": \"string\",\n        \"num_unique_values\": 241,\n        \"samples\": [\n          19396084498.008404\n        ],\n        \"semantic_type\": \"\",\n        \"description\": \"\"\n      }\n    }\n  ]\n}"
            }
          },
          "metadata": {},
          "execution_count": 9
        }
      ]
    },
    {
      "cell_type": "code",
      "source": [
        "csv_1.shape #217 column and 16 row"
      ],
      "metadata": {
        "colab": {
          "base_uri": "https://localhost:8080/"
        },
        "id": "KYqxjCJoOEPP",
        "outputId": "12d4ec64-5d9b-43c0-bdf3-4f310cb7c6dd"
      },
      "execution_count": null,
      "outputs": [
        {
          "output_type": "execute_result",
          "data": {
            "text/plain": [
              "(271, 16)"
            ]
          },
          "metadata": {},
          "execution_count": 10
        }
      ]
    },
    {
      "cell_type": "code",
      "source": [
        "csv_1.isnull().sum() #it gives how much data is null"
      ],
      "metadata": {
        "colab": {
          "base_uri": "https://localhost:8080/",
          "height": 585
        },
        "id": "Kjfmocn_OQBf",
        "outputId": "de9ff912-bc93-45db-9ee8-b1b27f566278"
      },
      "execution_count": null,
      "outputs": [
        {
          "output_type": "execute_result",
          "data": {
            "text/plain": [
              "Series Name      3\n",
              "Series Code      5\n",
              "Country Name     5\n",
              "Country Code     5\n",
              "1990 [YR1990]    5\n",
              "2000 [YR2000]    5\n",
              "2014 [YR2014]    5\n",
              "2015 [YR2015]    5\n",
              "2016 [YR2016]    5\n",
              "2017 [YR2017]    5\n",
              "2018 [YR2018]    5\n",
              "2019 [YR2019]    5\n",
              "2020 [YR2020]    5\n",
              "2021 [YR2021]    5\n",
              "2022 [YR2022]    5\n",
              "2023 [YR2023]    5\n",
              "dtype: int64"
            ],
            "text/html": [
              "<div>\n",
              "<style scoped>\n",
              "    .dataframe tbody tr th:only-of-type {\n",
              "        vertical-align: middle;\n",
              "    }\n",
              "\n",
              "    .dataframe tbody tr th {\n",
              "        vertical-align: top;\n",
              "    }\n",
              "\n",
              "    .dataframe thead th {\n",
              "        text-align: right;\n",
              "    }\n",
              "</style>\n",
              "<table border=\"1\" class=\"dataframe\">\n",
              "  <thead>\n",
              "    <tr style=\"text-align: right;\">\n",
              "      <th></th>\n",
              "      <th>0</th>\n",
              "    </tr>\n",
              "  </thead>\n",
              "  <tbody>\n",
              "    <tr>\n",
              "      <th>Series Name</th>\n",
              "      <td>3</td>\n",
              "    </tr>\n",
              "    <tr>\n",
              "      <th>Series Code</th>\n",
              "      <td>5</td>\n",
              "    </tr>\n",
              "    <tr>\n",
              "      <th>Country Name</th>\n",
              "      <td>5</td>\n",
              "    </tr>\n",
              "    <tr>\n",
              "      <th>Country Code</th>\n",
              "      <td>5</td>\n",
              "    </tr>\n",
              "    <tr>\n",
              "      <th>1990 [YR1990]</th>\n",
              "      <td>5</td>\n",
              "    </tr>\n",
              "    <tr>\n",
              "      <th>2000 [YR2000]</th>\n",
              "      <td>5</td>\n",
              "    </tr>\n",
              "    <tr>\n",
              "      <th>2014 [YR2014]</th>\n",
              "      <td>5</td>\n",
              "    </tr>\n",
              "    <tr>\n",
              "      <th>2015 [YR2015]</th>\n",
              "      <td>5</td>\n",
              "    </tr>\n",
              "    <tr>\n",
              "      <th>2016 [YR2016]</th>\n",
              "      <td>5</td>\n",
              "    </tr>\n",
              "    <tr>\n",
              "      <th>2017 [YR2017]</th>\n",
              "      <td>5</td>\n",
              "    </tr>\n",
              "    <tr>\n",
              "      <th>2018 [YR2018]</th>\n",
              "      <td>5</td>\n",
              "    </tr>\n",
              "    <tr>\n",
              "      <th>2019 [YR2019]</th>\n",
              "      <td>5</td>\n",
              "    </tr>\n",
              "    <tr>\n",
              "      <th>2020 [YR2020]</th>\n",
              "      <td>5</td>\n",
              "    </tr>\n",
              "    <tr>\n",
              "      <th>2021 [YR2021]</th>\n",
              "      <td>5</td>\n",
              "    </tr>\n",
              "    <tr>\n",
              "      <th>2022 [YR2022]</th>\n",
              "      <td>5</td>\n",
              "    </tr>\n",
              "    <tr>\n",
              "      <th>2023 [YR2023]</th>\n",
              "      <td>5</td>\n",
              "    </tr>\n",
              "  </tbody>\n",
              "</table>\n",
              "</div><br><label><b>dtype:</b> int64</label>"
            ]
          },
          "metadata": {},
          "execution_count": 11
        }
      ]
    },
    {
      "cell_type": "code",
      "source": [
        "csv_1.isnull().sum().sum() #total number of null value not cloumn wise"
      ],
      "metadata": {
        "colab": {
          "base_uri": "https://localhost:8080/"
        },
        "id": "-qrGlWKzQ8lC",
        "outputId": "0b2a51f7-d096-4edd-897b-31374552b2de"
      },
      "execution_count": null,
      "outputs": [
        {
          "output_type": "execute_result",
          "data": {
            "text/plain": [
              "78"
            ]
          },
          "metadata": {},
          "execution_count": 12
        }
      ]
    },
    {
      "cell_type": "code",
      "source": [
        "csv_1.shape[0] #show how much rows"
      ],
      "metadata": {
        "colab": {
          "base_uri": "https://localhost:8080/"
        },
        "id": "f8wS_11RP-_y",
        "outputId": "00a1010a-90c0-4c8e-83fc-4be3e21ebf82"
      },
      "execution_count": null,
      "outputs": [
        {
          "output_type": "execute_result",
          "data": {
            "text/plain": [
              "271"
            ]
          },
          "metadata": {},
          "execution_count": 13
        }
      ]
    },
    {
      "cell_type": "code",
      "source": [
        "csv_1.isnull().sum()/csv_1.shape[0]*100 #it gives how much data is null in percentage"
      ],
      "metadata": {
        "colab": {
          "base_uri": "https://localhost:8080/",
          "height": 585
        },
        "id": "ydO6UpHXPhJv",
        "outputId": "d3856d14-14f9-48d3-832a-66dc832ce61d"
      },
      "execution_count": null,
      "outputs": [
        {
          "output_type": "execute_result",
          "data": {
            "text/plain": [
              "Series Name      1.107011\n",
              "Series Code      1.845018\n",
              "Country Name     1.845018\n",
              "Country Code     1.845018\n",
              "1990 [YR1990]    1.845018\n",
              "2000 [YR2000]    1.845018\n",
              "2014 [YR2014]    1.845018\n",
              "2015 [YR2015]    1.845018\n",
              "2016 [YR2016]    1.845018\n",
              "2017 [YR2017]    1.845018\n",
              "2018 [YR2018]    1.845018\n",
              "2019 [YR2019]    1.845018\n",
              "2020 [YR2020]    1.845018\n",
              "2021 [YR2021]    1.845018\n",
              "2022 [YR2022]    1.845018\n",
              "2023 [YR2023]    1.845018\n",
              "dtype: float64"
            ],
            "text/html": [
              "<div>\n",
              "<style scoped>\n",
              "    .dataframe tbody tr th:only-of-type {\n",
              "        vertical-align: middle;\n",
              "    }\n",
              "\n",
              "    .dataframe tbody tr th {\n",
              "        vertical-align: top;\n",
              "    }\n",
              "\n",
              "    .dataframe thead th {\n",
              "        text-align: right;\n",
              "    }\n",
              "</style>\n",
              "<table border=\"1\" class=\"dataframe\">\n",
              "  <thead>\n",
              "    <tr style=\"text-align: right;\">\n",
              "      <th></th>\n",
              "      <th>0</th>\n",
              "    </tr>\n",
              "  </thead>\n",
              "  <tbody>\n",
              "    <tr>\n",
              "      <th>Series Name</th>\n",
              "      <td>1.107011</td>\n",
              "    </tr>\n",
              "    <tr>\n",
              "      <th>Series Code</th>\n",
              "      <td>1.845018</td>\n",
              "    </tr>\n",
              "    <tr>\n",
              "      <th>Country Name</th>\n",
              "      <td>1.845018</td>\n",
              "    </tr>\n",
              "    <tr>\n",
              "      <th>Country Code</th>\n",
              "      <td>1.845018</td>\n",
              "    </tr>\n",
              "    <tr>\n",
              "      <th>1990 [YR1990]</th>\n",
              "      <td>1.845018</td>\n",
              "    </tr>\n",
              "    <tr>\n",
              "      <th>2000 [YR2000]</th>\n",
              "      <td>1.845018</td>\n",
              "    </tr>\n",
              "    <tr>\n",
              "      <th>2014 [YR2014]</th>\n",
              "      <td>1.845018</td>\n",
              "    </tr>\n",
              "    <tr>\n",
              "      <th>2015 [YR2015]</th>\n",
              "      <td>1.845018</td>\n",
              "    </tr>\n",
              "    <tr>\n",
              "      <th>2016 [YR2016]</th>\n",
              "      <td>1.845018</td>\n",
              "    </tr>\n",
              "    <tr>\n",
              "      <th>2017 [YR2017]</th>\n",
              "      <td>1.845018</td>\n",
              "    </tr>\n",
              "    <tr>\n",
              "      <th>2018 [YR2018]</th>\n",
              "      <td>1.845018</td>\n",
              "    </tr>\n",
              "    <tr>\n",
              "      <th>2019 [YR2019]</th>\n",
              "      <td>1.845018</td>\n",
              "    </tr>\n",
              "    <tr>\n",
              "      <th>2020 [YR2020]</th>\n",
              "      <td>1.845018</td>\n",
              "    </tr>\n",
              "    <tr>\n",
              "      <th>2021 [YR2021]</th>\n",
              "      <td>1.845018</td>\n",
              "    </tr>\n",
              "    <tr>\n",
              "      <th>2022 [YR2022]</th>\n",
              "      <td>1.845018</td>\n",
              "    </tr>\n",
              "    <tr>\n",
              "      <th>2023 [YR2023]</th>\n",
              "      <td>1.845018</td>\n",
              "    </tr>\n",
              "  </tbody>\n",
              "</table>\n",
              "</div><br><label><b>dtype:</b> float64</label>"
            ]
          },
          "metadata": {},
          "execution_count": 14
        }
      ]
    },
    {
      "cell_type": "code",
      "source": [
        "csv_1.isnull().sum().sum()/(csv_1.shape[0]*csv_1.shape[1])*100 #it gives how much data is null in overall percentage"
      ],
      "metadata": {
        "colab": {
          "base_uri": "https://localhost:8080/"
        },
        "id": "Wl1PxEqYRLud",
        "outputId": "036ff78a-7245-46cc-ddb4-6ccf958f41b6"
      },
      "execution_count": null,
      "outputs": [
        {
          "output_type": "execute_result",
          "data": {
            "text/plain": [
              "1.7988929889298892"
            ]
          },
          "metadata": {},
          "execution_count": 15
        }
      ]
    },
    {
      "cell_type": "code",
      "source": [
        "csv_1.notnull().sum()#total filled data in per column"
      ],
      "metadata": {
        "colab": {
          "base_uri": "https://localhost:8080/",
          "height": 585
        },
        "id": "PfPIGsgx3mXf",
        "outputId": "2f623724-5a3a-46b2-d4d6-d9ac20d392ca"
      },
      "execution_count": null,
      "outputs": [
        {
          "output_type": "execute_result",
          "data": {
            "text/plain": [
              "Series Name      268\n",
              "Series Code      266\n",
              "Country Name     266\n",
              "Country Code     266\n",
              "1990 [YR1990]    266\n",
              "2000 [YR2000]    266\n",
              "2014 [YR2014]    266\n",
              "2015 [YR2015]    266\n",
              "2016 [YR2016]    266\n",
              "2017 [YR2017]    266\n",
              "2018 [YR2018]    266\n",
              "2019 [YR2019]    266\n",
              "2020 [YR2020]    266\n",
              "2021 [YR2021]    266\n",
              "2022 [YR2022]    266\n",
              "2023 [YR2023]    266\n",
              "dtype: int64"
            ],
            "text/html": [
              "<div>\n",
              "<style scoped>\n",
              "    .dataframe tbody tr th:only-of-type {\n",
              "        vertical-align: middle;\n",
              "    }\n",
              "\n",
              "    .dataframe tbody tr th {\n",
              "        vertical-align: top;\n",
              "    }\n",
              "\n",
              "    .dataframe thead th {\n",
              "        text-align: right;\n",
              "    }\n",
              "</style>\n",
              "<table border=\"1\" class=\"dataframe\">\n",
              "  <thead>\n",
              "    <tr style=\"text-align: right;\">\n",
              "      <th></th>\n",
              "      <th>0</th>\n",
              "    </tr>\n",
              "  </thead>\n",
              "  <tbody>\n",
              "    <tr>\n",
              "      <th>Series Name</th>\n",
              "      <td>268</td>\n",
              "    </tr>\n",
              "    <tr>\n",
              "      <th>Series Code</th>\n",
              "      <td>266</td>\n",
              "    </tr>\n",
              "    <tr>\n",
              "      <th>Country Name</th>\n",
              "      <td>266</td>\n",
              "    </tr>\n",
              "    <tr>\n",
              "      <th>Country Code</th>\n",
              "      <td>266</td>\n",
              "    </tr>\n",
              "    <tr>\n",
              "      <th>1990 [YR1990]</th>\n",
              "      <td>266</td>\n",
              "    </tr>\n",
              "    <tr>\n",
              "      <th>2000 [YR2000]</th>\n",
              "      <td>266</td>\n",
              "    </tr>\n",
              "    <tr>\n",
              "      <th>2014 [YR2014]</th>\n",
              "      <td>266</td>\n",
              "    </tr>\n",
              "    <tr>\n",
              "      <th>2015 [YR2015]</th>\n",
              "      <td>266</td>\n",
              "    </tr>\n",
              "    <tr>\n",
              "      <th>2016 [YR2016]</th>\n",
              "      <td>266</td>\n",
              "    </tr>\n",
              "    <tr>\n",
              "      <th>2017 [YR2017]</th>\n",
              "      <td>266</td>\n",
              "    </tr>\n",
              "    <tr>\n",
              "      <th>2018 [YR2018]</th>\n",
              "      <td>266</td>\n",
              "    </tr>\n",
              "    <tr>\n",
              "      <th>2019 [YR2019]</th>\n",
              "      <td>266</td>\n",
              "    </tr>\n",
              "    <tr>\n",
              "      <th>2020 [YR2020]</th>\n",
              "      <td>266</td>\n",
              "    </tr>\n",
              "    <tr>\n",
              "      <th>2021 [YR2021]</th>\n",
              "      <td>266</td>\n",
              "    </tr>\n",
              "    <tr>\n",
              "      <th>2022 [YR2022]</th>\n",
              "      <td>266</td>\n",
              "    </tr>\n",
              "    <tr>\n",
              "      <th>2023 [YR2023]</th>\n",
              "      <td>266</td>\n",
              "    </tr>\n",
              "  </tbody>\n",
              "</table>\n",
              "</div><br><label><b>dtype:</b> int64</label>"
            ]
          },
          "metadata": {},
          "execution_count": 17
        }
      ]
    },
    {
      "cell_type": "code",
      "source": [
        "csv_1.notnull().sum().sum() #total filled data in overall row+column"
      ],
      "metadata": {
        "colab": {
          "base_uri": "https://localhost:8080/"
        },
        "id": "9cwoTOoz5GxB",
        "outputId": "b381ddee-2546-4e4b-8331-de0b51675118"
      },
      "execution_count": null,
      "outputs": [
        {
          "output_type": "execute_result",
          "data": {
            "text/plain": [
              "4258"
            ]
          },
          "metadata": {},
          "execution_count": 19
        }
      ]
    },
    {
      "cell_type": "code",
      "source": [
        "sns.heatmap(csv_1.isnull()) #white part show missing data true=1 that show missing value\n",
        "plt.show()"
      ],
      "metadata": {
        "colab": {
          "base_uri": "https://localhost:8080/",
          "height": 526
        },
        "id": "wMB-0Wf55Pn-",
        "outputId": "37c35c70-9654-4d3a-fcc2-3898bbe6669b"
      },
      "execution_count": null,
      "outputs": [
        {
          "output_type": "display_data",
          "data": {
            "text/plain": [
              "<Figure size 640x480 with 2 Axes>"
            ],
            "image/png": "[encoded data removed]"
          },
          "metadata": {}
        }
      ]
    },
    {
      "cell_type": "code",
      "source": [
        "sns.heatmap(csv_1.notnull())\n",
        "plt.show()"
      ],
      "metadata": {
        "colab": {
          "base_uri": "https://localhost:8080/",
          "height": 526
        },
        "id": "01Y35OsD68Tk",
        "outputId": "90e18627-0f49-4bc8-8353-4fd4a755e28d"
      },
      "execution_count": null,
      "outputs": [
        {
          "output_type": "display_data",
          "data": {
            "text/plain": [
              "<Figure size 640x480 with 2 Axes>"
            ],
            "image/png": "[encoded data removed]"
          },
          "metadata": {}
        }
      ]
    },
    {
      "cell_type": "markdown",
      "source": [
        "if dataset is 50 percent empty we should not use that dataset"
      ],
      "metadata": {
        "id": "ZYlDvBIN73iU"
      }
    },
    {
      "cell_type": "markdown",
      "source": [
        "#Handling missing value"
      ],
      "metadata": {
        "id": "E82fJk8w8TDU"
      }
    },
    {
      "cell_type": "code",
      "source": [],
      "metadata": {
        "id": "1slM7B-97h3F"
      },
      "execution_count": null,
      "outputs": []
    }
  ]
}